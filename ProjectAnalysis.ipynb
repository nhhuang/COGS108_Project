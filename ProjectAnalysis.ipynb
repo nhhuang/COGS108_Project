{
 "cells": [
  {
   "cell_type": "code",
   "execution_count": 15,
   "metadata": {},
   "outputs": [],
   "source": [
    "# Imports -  These are all you need for the assignment: do not import additional packages\n",
    "%matplotlib inline\n",
    "\n",
    "import numpy as np\n",
    "import pandas as pd\n",
    "import matplotlib.pyplot as plt\n",
    "import json\n",
    "import requests\n",
    "from geopy.geocoders import Nominatim\n",
    "from urllib.request import Request\n",
    "\n",
    "\n",
    "import patsy\n",
    "import statsmodels.api as sm\n",
    "import scipy.stats as stats\n",
    "from scipy.stats import ttest_ind, chisquare, normaltest\n"
   ]
  },
  {
   "cell_type": "code",
   "execution_count": 16,
   "metadata": {},
   "outputs": [],
   "source": [
    "#load Los Angeles Data\n",
    "df_LosAngeles = pd.read_csv(\"data/Crime_Data_from_2010_to_Present.csv\") "
   ]
  },
  {
   "cell_type": "code",
   "execution_count": 22,
   "metadata": {},
   "outputs": [],
   "source": [
    "#Load Median Housing Data\n",
    "df_HousePrice = pd.read_csv(\"data/Zip_MedianListingPrice_AllHomes.csv\")\n",
    "\n",
    "#Filter by Los Angeles Only\n",
    "df_LAHousePrice = df_HousePrice[df_HousePrice['City'] == 'Los Angeles']"
   ]
  },
  {
   "cell_type": "code",
   "execution_count": 23,
   "metadata": {
    "collapsed": true
   },
   "outputs": [],
   "source": [
    "#locator hack\n",
    "\n",
    "def get_geolocator():\n",
    "    geolocator = Nominatim()\n",
    "\n",
    "    requester = geolocator.urlopen\n",
    "\n",
    "    def requester_hack(req, **kwargs):\n",
    "        req = Request(url=req, headers=geolocator.headers)\n",
    "        return requester(req, **kwargs)\n",
    "\n",
    "    geolocator.urlopen = requester_hack\n",
    "\n",
    "    return geolocator"
   ]
  },
  {
   "cell_type": "code",
   "execution_count": 25,
   "metadata": {},
   "outputs": [
    {
     "name": "stdout",
     "output_type": "stream",
     "text": [
      "Backwerk, Potsdamer Platz, Tiergarten, Mitte, Berlin, 10785, Deutschland\n"
     ]
    }
   ],
   "source": [
    "#Convert location to zip code\n",
    "location = get_geolocator().reverse(\"52.509669, 13.376294\")\n",
    "address = location.address\n",
    "print(location)\n"
   ]
  },
  {
   "cell_type": "code",
   "execution_count": null,
   "metadata": {},
   "outputs": [],
   "source": [
    "df_LosAngeles"
   ]
  },
  {
   "cell_type": "code",
   "execution_count": null,
   "metadata": {
    "collapsed": true
   },
   "outputs": [],
   "source": []
  }
 ],
 "metadata": {
  "kernelspec": {
   "display_name": "Python 3",
   "language": "python",
   "name": "python3"
  },
  "language_info": {
   "codemirror_mode": {
    "name": "ipython",
    "version": 3
   },
   "file_extension": ".py",
   "mimetype": "text/x-python",
   "name": "python",
   "nbconvert_exporter": "python",
   "pygments_lexer": "ipython3",
   "version": "3.6.4"
  }
 },
 "nbformat": 4,
 "nbformat_minor": 2
}
