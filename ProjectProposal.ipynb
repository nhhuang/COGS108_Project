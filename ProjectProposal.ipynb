{
 "cells": [
  {
   "cell_type": "markdown",
   "metadata": {},
   "source": [
    "# COGS 108 - Project Proposal"
   ]
  },
  {
   "cell_type": "markdown",
   "metadata": {},
   "source": [
    "## Important\n",
    "\n",
    "- Make sure all group members (3-5 people) are listed in the group members section.\n",
    "- ONE, and only one, member of your group should upload this notebook to TritonED. \n",
    "- Each member of the group will receive the same grade on this assignment. \n",
    "- Keep the file name the same: submit the file 'ProjectProposal.ipynb'"
   ]
  },
  {
   "cell_type": "markdown",
   "metadata": {},
   "source": [
    "## Overview"
   ]
  },
  {
   "cell_type": "markdown",
   "metadata": {},
   "source": [
    "Read the project description and detailed instructions for this assignment in the 'ProjectOutline' document."
   ]
  },
  {
   "cell_type": "markdown",
   "metadata": {},
   "source": [
    "## Group Members: Fill in the Student IDs of each group member here\n",
    "\n",
    "Replace the lines below to list each persons full student ID. Add lines as needed for your group size, and make sure each ID is listed on a separate line. \n",
    "\n",
    "- A13897206\n",
    "- A13758489\n",
    "- A91047730\n",
    "- A08971511"
   ]
  },
  {
   "cell_type": "markdown",
   "metadata": {},
   "source": [
    "### Research Question\n",
    "\n",
    "What is your research question? (1-2 sentences)"
   ]
  },
  {
   "cell_type": "markdown",
   "metadata": {},
   "source": [
    "How does housing prices affect your likelyhood of geting a police citation? *the value of cars listed in a given area"
   ]
  },
  {
   "cell_type": "markdown",
   "metadata": {},
   "source": [
    "### Hypothesis\n",
    "\n",
    "What is your main hypothesis and predictions? (2-3 sentences)"
   ]
  },
  {
   "cell_type": "markdown",
   "metadata": {},
   "source": [
    "The housing prices in a given area would be a key determinator for the number of police citations in that area. We predict that higher housing prices would lead to lower amounts of police citations and vice versa."
   ]
  },
  {
   "cell_type": "markdown",
   "metadata": {},
   "source": [
    "### Dataset(s)\n",
    "\n",
    "What data will you use to answer your question? Describe the dataset(s) in terms of number of observations, what kind of features it contains, etc. You must use at least one dataset containing at least approximately 1000 observations (if your data are smaller but you feel they are sufficient, email Prof. Voytek). You are welcome (and in fact recommended) to find multiple datasets! If you do so, describe each one, and briefly explain how you will combine them together. "
   ]
  },
  {
   "cell_type": "markdown",
   "metadata": {},
   "source": [
    "*Fill in your dataset information here*\n",
    "\n",
    "(Copy this information for each dataset)\n",
    "- Dataset Name: Non-Traffic Citations, City of Pittsburg\n",
    "- Link to the dataset: https://catalog.data.gov/dataset/non-traffic-citations\n",
    "- Number of observations: 4358\n",
    "\n",
    "Non-traffic citations (NTCs, also known as \"summary offenses\") document low-level criminal offenses where a law enforcement officer or other authorized official issued a citation in lieu of arrest. Dataset contains gender,age,race, location, and offense.\n",
    "\n",
    "\n",
    "If you plan to use multiple datasets, add 1-2 sentences about how you plan to combine these datasets."
   ]
  },
  {
   "cell_type": "markdown",
   "metadata": {},
   "source": [
    "### Background and Prior Work (K)\n",
    "\n",
    "The group’s intent to investigate cities with varying housing market prices and relating this variable to police citation density provides the opportunity to discover the economic and social implications of how consumers populate certain regions. Throughout this project, we are attempting to work with multiple cities with differing housing economies to create a correlation between a city’s housing market and the its police citation density. House buyer sentiment of a city arrives at many factors that influence the price they are willing to pay for a house in the region. We believe crime to be an under looked yet imperative indicator of buyer sentiment. The assumption that we took with regards to housing prices within cities is that houses will positively correlate and increase in value with more amenities and features the house provides. A factor like crime poses as a cost to the community and is portrayed as an indirect effect to the region’s housing economy. Severity of crime is also a point of interest we intend to examine in hopes of discriminating categories of crime that are most influential to housing market prices.\n",
    "\n",
    "Upon further research and understanding of our context, it was clear that the projected needed to create a price model that distinguished between other features and provide quantitative data to the effect a house’s price has on the region’s crime statistics. The first reference managed to utilize an index of public safety alongside the primary features and held a firm precaution against utilizing a measure of the number of crimes as this measure places the same value on all types of crimes. As, stated earlier, it is imperative for us to assign weights to each category so that the model can provide reliable output. This first reference suggests that areas with high and low crimes (the opposite extremes of our data set) affect the price of local houses dramatically. The secondary reference is a data science project vital to the understanding of our investigation and provides the foundation for us to utilize and test methodologies. This reference serves as a model for our project so that we can have the opportunity to discover new insights our features can point toward during each step of the process.\n",
    " \n",
    "\n"
   ]
  },
  {
   "cell_type": "markdown",
   "metadata": {},
   "source": [
    "References:\n",
    "1.      Measuring the impact of crime on house prices\n",
    "http://www.tandfonline.com/doi/pdf/10.1080/00036840110021735?needAccess=true\n",
    "2.      Predict the Housing Prices of Ames, Iowa\n",
    "https://nycdatascience.com/blog/student-works/team-machine-learning-project/"
   ]
  },
  {
   "cell_type": "markdown",
   "metadata": {},
   "source": [
    "### Proposed Methods (N)\n",
    "\n",
    "What methods will you use to analyze your data?\n",
    "\n",
    "- How 'clean' is the data? To the extent that it requires cleaning, how will you do so?\n",
    "- How will you analyze the data? Be as specific as you can. Briefly mention any pre-processing steps that are required for your methods (for example, checking data distributions and performing any transformations that may be required). Include a brief outline of how you will apply your chosen method(s). \n",
    "- What do you plan to report? Briefly mention any key visualizations you plan to create, and/or the kind of results you will be able to report that address your question (this could be, for example, the outcome of some statistical test(s), prediction error on a model, a model fit parameter, etc.).\n",
    "- Include a list of packages you expect to use for you project. If you plan to use packages we have not used in class, add a very brief description about them (a few words is sufficient). "
   ]
  },
  {
   "cell_type": "markdown",
   "metadata": {},
   "source": [
    "*Data Cleaning (2-3 sentences)*\n",
    "The housing data from zillow is well defined, however, we would want to check all pricing values for possible numerical errors such as if the price is zero or any \"inf\" or \"na\" values. We would also need to check the locaiton data to ensure there are no blank values. The location data in the police citation datasets are not properly formatted consistently and will need to be replaces with values comparable to the Zillow housing data sets.\n",
    "\n",
    "*Data Analysis (1-2 paragraphs)*\n",
    "The Zillow housing data comes with a lot of extraneous information that would need to be trimmed out. We would first want to determine which location set of data would be most useful for matching with the police citation data. Since both datasets do not contain the same type of location identifiers, we would need to transform the location identifiers to a universal set of data that could be compared between different data sets. Some preprocessing may also be needed for the locations to separate them into area units that fit to the number of citations per area. \n",
    "\n",
    "For the police data we would need to get the number of counts for each citation and the aggregate sum for each unit area determined by housing district. The police citations may further be categorized into severity based on the citation to be compared to the average price of the houses in that area. We would then determine the correlation between housing prices and the number of citations in each district. Ideally, this would help us determine if there is a relationship between housing prices and citations given in each area. \n",
    "\n",
    "*What to report (2-3 sentences)*\n",
    "We would be reporting a correlation between number of citations in a given area compared to the housing prices of that area. We will attempt to show a potential model based on our hypothesis that higher housing prices would lead to a decrease in police citation and and demonstrate how close our model can predict potential citations in an area. For visualization, we will generate a heatmap for number of police citations compared to housing prices in a given area. \n",
    "\n",
    "Packages we plan to use:\n",
    "- matplotlib\n",
    "- numpy\n",
    "- pandas"
   ]
  },
  {
   "cell_type": "markdown",
   "metadata": {},
   "source": [
    "### Ethics and Privacy (Z)\n",
    "\n",
    "Briefly acknowledge and address any potential issues of ethics and privacy for the proposed project. In particular:\n",
    "- Do you have permission to use this data, for this purpose?\n",
    "- Are there privacy concerns regarding your datasets that you need to deal with, and/or terms of use that you need to comply with?\n",
    "- Are there potential biases in your dataset(s), in terms of who it composes, and how it was collected, that may be problematic in terms of it allowing for equitable analysis? (For example, does your data exclude particular populations, or is it likely to reflect particular human biases in a way that could be a problem?) \n",
    "- Are there any other issues related to your topic area, data, and/or analyses that are potentially problematic in terms of data privacy and equitable impact?\n",
    "- How will you handle any issues you identify?\n",
    "\n",
    "(1-2 paragraphs)"
   ]
  },
  {
   "cell_type": "markdown",
   "metadata": {},
   "source": [
    "### Discussion (Y)\n",
    "\n",
    "Discuss your project, looking forward to what your results might mean, how they fit it in with what is already known, and what problems you may encounter. \n",
    "\n",
    "In particular:\n",
    "- If your analyses and hypotheses are correct, what will be the contribution of this project to the topic domain? \n",
    "- Alternatively, what will you do if you methods don't work and/or your hypotheses are wrong? \n",
    "- What are the potential pitfalls and potential confounds of your data and/or methods that may cause problems, and/or influence your interpretations?\n",
    "\n",
    "(2-3 paragraphs)"
   ]
  },
  {
   "cell_type": "markdown",
   "metadata": {},
   "source": [
    "*Fill in your discussion information here*"
   ]
  }
 ],
 "metadata": {
  "kernelspec": {
   "display_name": "Python 3",
   "language": "python",
   "name": "python3"
  },
  "language_info": {
   "codemirror_mode": {
    "name": "ipython",
    "version": 3
   },
   "file_extension": ".py",
   "mimetype": "text/x-python",
   "name": "python",
   "nbconvert_exporter": "python",
   "pygments_lexer": "ipython3",
   "version": "3.6.4"
  }
 },
 "nbformat": 4,
 "nbformat_minor": 2
}
