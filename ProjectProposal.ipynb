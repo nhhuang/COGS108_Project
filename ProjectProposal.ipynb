{
 "cells": [
  {
   "cell_type": "markdown",
   "metadata": {},
   "source": [
    "# COGS 108 - Project Proposal"
   ]
  },
  {
   "cell_type": "markdown",
   "metadata": {},
   "source": [
    "## Important\n",
    "\n",
    "- Make sure all group members (3-5 people) are listed in the group members section.\n",
    "- ONE, and only one, member of your group should upload this notebook to TritonED. \n",
    "- Each member of the group will receive the same grade on this assignment. \n",
    "- Keep the file name the same: submit the file 'ProjectProposal.ipynb'"
   ]
  },
  {
   "cell_type": "markdown",
   "metadata": {},
   "source": [
    "## Overview"
   ]
  },
  {
   "cell_type": "markdown",
   "metadata": {},
   "source": [
    "Read the project description and detailed instructions for this assignment in the 'ProjectOutline' document."
   ]
  },
  {
   "cell_type": "markdown",
   "metadata": {},
   "source": [
    "## Group Members: Fill in the Student IDs of each group member here\n",
    "\n",
    "Replace the lines below to list each persons full student ID. Add lines as needed for your group size, and make sure each ID is listed on a separate line. \n",
    "\n",
    "- A13897206\n",
    "- A13758489\n",
    "- A91047730\n",
    "- A08971511\n",
    "- A12073771\n",
    "- A11593366"
   ]
  },
  {
   "cell_type": "markdown",
   "metadata": {},
   "source": [
    "### Research Question"
   ]
  },
  {
   "cell_type": "markdown",
   "metadata": {},
   "source": [
    "How does housing prices affect your likelyhood of geting a police citation? "
   ]
  },
  {
   "cell_type": "markdown",
   "metadata": {},
   "source": [
    "### Hypothesis"
   ]
  },
  {
   "cell_type": "markdown",
   "metadata": {},
   "source": [
    "The housing prices in a given area would be a key determinator for the number of police citations in that area. We predict that higher housing prices would lead to lower amounts of police citations and vice versa."
   ]
  },
  {
   "cell_type": "markdown",
   "metadata": {},
   "source": [
    "### Dataset(s)"
   ]
  },
  {
   "cell_type": "markdown",
   "metadata": {},
   "source": [
    "- Dataset Name: Zillow Housing Data\n",
    "- Link to the dataset: https://www.zillow.com/research/data/\n",
    "- Number of observations: 1878\n",
    "\n",
    "Housing pricing data by cities. Contains data from 2008 to current date with the median housing data for each year. Other datasets are available with pricing and different geographical locations.\n",
    "\n",
    "\n",
    "- Dataset Name: Non-Traffic Citations, City of Pittsburg\n",
    "- Link to the dataset: https://catalog.data.gov/dataset/non-traffic-citations\n",
    "- Number of observations: 4358\n",
    "\n",
    "Non-traffic citations (NTCs, also known as \"summary offenses\") document low-level criminal offenses where a law enforcement officer or other authorized official issued a citation in lieu of arrest. Dataset contains gender,age,race, location, and offense.\n",
    "\n",
    "- Dataset Name: Police - Motor Vehicle Citations \n",
    "- Link to the dataset: https://catalog.data.gov/dataset/police-motor-vehicle-citations\n",
    "- Number of observations: 65535\n",
    "\n",
    "Dataset contains the reason for citation, street name, and date. It tells if the citation was warning or noncriminal. Also tells if the person was arrested or not. \n",
    "\n",
    "- Dataset Name: Crime Data from 2010 to present\n",
    "- Link to dataset: https://catalog.data.gov/dataset/crime-data-from-2010-to-present\n",
    "- Number of Observations: 1048576\n",
    "\n",
    "Dataset contains transcriptions of original incident reports of crimes in Los Angeles. If address is absent then marked as (0.0). \n",
    "\n",
    "- Dataset Name: Police - Motor Vehicle Citations\n",
    "- Link to dataset: https://catalog.data.gov/dataset/police-motor-vehicle-citations/resource/bbde811c-a087-4f79-a9cd-dd0a6c98aa95\n",
    "- Number of Observations: 90216\n",
    "\n",
    "Dataset contains information on serial numbers, citation numbers, date issued, street number, street names, charge codes, charge descriptions, vehicle mph, mph zone, warnings, non-criminal offenses, compliance, arrests, voids pertaining to citations filed since 2010 for the city of Somerville, Massachusetts. \n",
    "\n",
    "\n",
    "\n",
    "Datasets will be cleaned to have matching location data and combined by matching the location with prices and number of total citations."
   ]
  },
  {
   "cell_type": "markdown",
   "metadata": {},
   "source": [
    "### Background and Prior Work"
   ]
  },
  {
   "cell_type": "markdown",
   "metadata": {},
   "source": [
    "The group’s intent to investigate cities with varying housing market prices and relating this variable to police citation density provides the opportunity to discover the economic and social implications of how consumers populate certain regions. Throughout this project, we are attempting to work with multiple cities with differing housing economies to create a correlation between a city’s housing market and the its police citation density. House buyer sentiment of a city arrives at many factors that influence the price they are willing to pay for a house in the region. We believe crime to be an under looked yet imperative indicator of buyer sentiment. The assumption that we took with regards to housing prices within cities is that houses will positively correlate and increase in value with more amenities and features the house provides. A factor like crime poses as a cost to the community and is portrayed as an indirect effect to the region’s housing economy. Severity of crime is also a point of interest we intend to examine in hopes of discriminating categories of crime that are most influential to housing market prices.\n",
    "\n",
    "Upon further research and understanding of our context, it was clear that the projected needed to create a price model that distinguished between other features and provide quantitative data to the effect a house’s price has on the region’s crime statistics. The first reference managed to utilize an index of public safety alongside the primary features and held a firm precaution against utilizing a measure of the number of crimes as this measure places the same value on all types of crimes. As, stated earlier, it is imperative for us to assign weights to each category so that the model can provide reliable output. This first reference suggests that areas with high and low crimes (the opposite extremes of our data set) affect the price of local houses dramatically. The secondary reference is a data science project vital to the understanding of our investigation and provides the foundation for us to utilize and test methodologies. This reference serves as a model for our project so that we can have the opportunity to discover new insights our features can point toward during each step of the process."
   ]
  },
  {
   "cell_type": "markdown",
   "metadata": {},
   "source": [
    "References:\n",
    "1.      Measuring the impact of crime on house prices\n",
    "http://www.tandfonline.com/doi/pdf/10.1080/00036840110021735?needAccess=true\n",
    "2.      Predict the Housing Prices of Ames, Iowa\n",
    "https://nycdatascience.com/blog/student-works/team-machine-learning-project/"
   ]
  },
  {
   "cell_type": "markdown",
   "metadata": {},
   "source": [
    "### Proposed Methods"
   ]
  },
  {
   "cell_type": "markdown",
   "metadata": {},
   "source": [
    "The housing data from zillow is well defined, however, we would want to check all pricing values for possible numerical errors such as if the price is zero or any \"inf\" or \"na\" values. We would also need to check the locaiton data to ensure there are no blank values. The location data in the police citation datasets are not properly formatted consistently and will need to be replaces with values comparable to the Zillow housing data sets.\n",
    "\n",
    "The Zillow housing data comes with a lot of extraneous information that would need to be trimmed out. We would first want to determine which location set of data would be most useful for matching with the police citation data. Since both datasets do not contain the same type of location identifiers, we would need to transform the location identifiers to a universal set of data that could be compared between different data sets. Some preprocessing may also be needed for the locations to separate them into area units that fit to the number of citations per area. \n",
    "\n",
    "For the police data we would need to get the number of counts for each citation and the aggregate sum for each unit area determined by housing district. The police citations may further be categorized into severity based on the citation to be compared to the average price of the houses in that area. We would then determine the correlation between housing prices and the number of citations in each district. Ideally, this would help us determine if there is a relationship between housing prices and citations given in each area. \n",
    "\n",
    "We would be reporting a correlation between number of citations in a given area compared to the housing prices of that area. We will attempt to show a potential model based on our hypothesis that higher housing prices would lead to a decrease in police citation and and demonstrate how close our model can predict potential citations in an area. For visualization, we will generate a heatmap for number of police citations compared to housing prices in a given area. \n",
    "\n",
    "Packages we plan to use:\n",
    "- matplotlib\n",
    "- numpy\n",
    "- pandas"
   ]
  },
  {
   "cell_type": "markdown",
   "metadata": {},
   "source": [
    "### Ethics and Privacy"
   ]
  },
  {
   "cell_type": "markdown",
   "metadata": {},
   "source": [
    "As a group, we heavily value research ethics. Our goal is not only to finish our research objectives, but also pay close attention to potential ethical issue with our data analysis. We have collected the majority of our data from data.gov and Zillow Research, both websites declared in their terms and condition that all of their data are considered as public record, which is open for us to use without requiring any further permission. However, we have identified the potential privacy issue with our data analysis. Many of our citation related data contains a “case number”, which we believe is one of the potential privacy issue. Therefore, we decided to remove the “case number” that are in some of our data, since the “case numbers” expose us to risks and will contribute nothing to our analysis. In addition, some of these data also provide the time and location for a citation, which we also consider as potential information that others could use to identify the involving personnel. To handle this potential issue, we are going to remove the time column, because location information is essential to our research. \n",
    "\n",
    "Some potential harm from this project entails the bias assumption of social status and race. To address that matter, we shall seek for multicultural cities.\n",
    "\n",
    "Potential biases may arise due to the fact that we are using datasets that are derived from specific cities that may not have the adequate police personnel. That in and of itself results in less citations issued. There may be affluent cities that have a great number of police officers giving out more tickets, than a less-affluent city that has less police officers giving out less tickets. In cases like these, is when we may encounter potential problems that don’t necessarily reflect what we are expecting to see. Also, drivers in affluent cities tend to possess expensive high-performance vehicles that may inevitably make them targets for police officers and therefore more tickets being issued in cities like these. Equitable analysis may prove to be very difficult in situations like these. "
   ]
  },
  {
   "cell_type": "markdown",
   "metadata": {},
   "source": [
    "### Discussion"
   ]
  },
  {
   "cell_type": "markdown",
   "metadata": {},
   "source": [
    "Our hypotheses are that higher housing prices would lead to lower amounts of police citations and lower housing prices would lead to higher amounts of police citations. The key contributions of our project would be the housing prices in a given area and the number of police citations in that area.\n",
    "\n",
    "We derived our methods from previous data science research models. For example, this is similar to the project in which studies the relationships between the amount of street lights and police citations. Some problems we might encounter are the outliers in which people may not be from that designated area.\n",
    "\n",
    "We predict that the housing prices would determine the number of police citations in given area. If our hypotheses are wrong, that means there may be more than one contribution that determines the result or there is a possibility that the housing prices have no correlation of determining the number of police stations. If our results show that the correlation is not significant, we would need to look for new contributions or change some methods to see if there is difference from the results of our previous methods.\n",
    " \n",
    "Potential pitfalls and confounds that we may encounter are misinterpretation of data such as the severity of the citations- major and minor. This brings in the analysis of quantity over quality. Such that there might be a large amount of minor citations such as parking violations versus a small amount of major citations such as reckless driving. This can play a crucial influence in the relationship of police citations and house values."
   ]
  }
 ],
 "metadata": {
  "kernelspec": {
   "display_name": "Python 3",
   "language": "python",
   "name": "python3"
  },
  "language_info": {
   "codemirror_mode": {
    "name": "ipython",
    "version": 3
   },
   "file_extension": ".py",
   "mimetype": "text/x-python",
   "name": "python",
   "nbconvert_exporter": "python",
   "pygments_lexer": "ipython3",
   "version": "3.6.4"
  }
 },
 "nbformat": 4,
 "nbformat_minor": 2
}
