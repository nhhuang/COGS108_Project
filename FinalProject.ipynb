{
 "cells": [
  {
   "cell_type": "markdown",
   "metadata": {},
   "source": [
    "# COGS 108 - Final Project"
   ]
  },
  {
   "cell_type": "markdown",
   "metadata": {},
   "source": [
    "## Introduction and Background"
   ]
  },
  {
   "cell_type": "markdown",
   "metadata": {},
   "source": [
    "The group’s intent to investigate cities with varying housing market prices and relating this variable to police citation density provides the opportunity to discover the economic and social implications of how consumers populate certain regions. Throughout this project, we are attempting to work with multiple cities with differing housing economies to create a correlation between a city’s housing market and the its police citation density. House buyer sentiment of a city arrives at many factors that influence the price they are willing to pay for a house in the region. We believe crime to be an under looked yet imperative indicator of buyer sentiment. The assumption that we took with regards to housing prices within cities is that houses will positively correlate and increase in value with more amenities and features the house provides. A factor like crime poses as a cost to the community and is portrayed as an indirect effect to the region’s housing economy. Severity of crime is also a point of interest we intend to examine in hopes of discriminating categories of crime that are most influential to housing market prices.\n",
    "\n",
    "Upon further research and understanding of our context, it was clear that the projected needed to create a price model that distinguished between other features and provide quantitative data to the effect a house’s price has on the region’s crime statistics. The first reference managed to utilize an index of public safety alongside the primary features and held a firm precaution against utilizing a measure of the number of crimes as this measure places the same value on all types of crimes. As, stated earlier, it is imperative for us to assign weights to each category so that the model can provide reliable output. This first reference suggests that areas with high and low crimes (the opposite extremes of our data set) affect the price of local houses dramatically. The secondary reference is a data science project vital to the understanding of our investigation and provides the foundation for us to utilize and test methodologies. This reference serves as a model for our project so that we can have the opportunity to discover new insights our features can point toward during each step of the process."
   ]
  },
  {
   "cell_type": "markdown",
   "metadata": {},
   "source": [
    "## Data Description"
   ]
  },
  {
   "cell_type": "code",
   "execution_count": null,
   "metadata": {
    "collapsed": true
   },
   "outputs": [],
   "source": []
  },
  {
   "cell_type": "markdown",
   "metadata": {},
   "source": [
    "## Data Cleaning / Preprocessing"
   ]
  },
  {
   "cell_type": "code",
   "execution_count": null,
   "metadata": {
    "collapsed": true
   },
   "outputs": [],
   "source": []
  },
  {
   "cell_type": "markdown",
   "metadata": {},
   "source": [
    "## Data Visualization"
   ]
  },
  {
   "cell_type": "code",
   "execution_count": null,
   "metadata": {
    "collapsed": true
   },
   "outputs": [],
   "source": []
  },
  {
   "cell_type": "markdown",
   "metadata": {},
   "source": [
    "## Data Analysis and Results"
   ]
  },
  {
   "cell_type": "code",
   "execution_count": null,
   "metadata": {
    "collapsed": true
   },
   "outputs": [],
   "source": []
  },
  {
   "cell_type": "markdown",
   "metadata": {},
   "source": [
    "## Privacy/Ethics Considerations"
   ]
  },
  {
   "cell_type": "code",
   "execution_count": null,
   "metadata": {
    "collapsed": true
   },
   "outputs": [],
   "source": []
  },
  {
   "cell_type": "markdown",
   "metadata": {},
   "source": [
    "## Conclusions and Discussion"
   ]
  },
  {
   "cell_type": "code",
   "execution_count": null,
   "metadata": {
    "collapsed": true
   },
   "outputs": [],
   "source": []
  }
 ],
 "metadata": {
  "kernelspec": {
   "display_name": "Python 3",
   "language": "python",
   "name": "python3"
  },
  "language_info": {
   "codemirror_mode": {
    "name": "ipython",
    "version": 3
   },
   "file_extension": ".py",
   "mimetype": "text/x-python",
   "name": "python",
   "nbconvert_exporter": "python",
   "pygments_lexer": "ipython3",
   "version": "3.6.4"
  }
 },
 "nbformat": 4,
 "nbformat_minor": 2
}
